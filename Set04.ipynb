{
 "cells": [
  {
   "cell_type": "markdown",
   "id": "14a12726",
   "metadata": {},
   "source": [
    "# Risk Management - Problem Set 03\n",
    "Authors:\n",
    "- Dawid Włosek\n",
    "- Julia Zezula"
   ]
  },
  {
   "cell_type": "code",
   "execution_count": 15,
   "id": "33bdccf8",
   "metadata": {},
   "outputs": [],
   "source": [
    "import numpy as np\n",
    "import matplotlib.pyplot as plt\n",
    "from scipy.stats import norm\n",
    "from scipy.integrate import quad"
   ]
  },
  {
   "cell_type": "markdown",
   "id": "62964695",
   "metadata": {},
   "source": [
    "## Problem 01"
   ]
  },
  {
   "cell_type": "code",
   "execution_count": 2,
   "id": "cb4f461e",
   "metadata": {},
   "outputs": [],
   "source": [
    "#  Compute Value at Risk (VaR) at confidence level alpha for a standard normal distribution.\n",
    "def compute_var(alpha: float) -> float:\n",
    "    return -norm.ppf(alpha)\n"
   ]
  },
  {
   "cell_type": "code",
   "execution_count": 3,
   "id": "19a1bed1",
   "metadata": {},
   "outputs": [],
   "source": [
    "# Compute Expected Shortfall (ES) using the PDF-based integral definition.\n",
    "def compute_es_pdf(alpha: float, var_alpha: float) -> float:\n",
    "    def integrand(x):\n",
    "        return x * norm.pdf(x)\n",
    "    \n",
    "    integral, _ = quad(integrand, -np.inf, -var_alpha)\n",
    "    return -integral / alpha"
   ]
  },
  {
   "cell_type": "code",
   "execution_count": 4,
   "id": "ac186ce0",
   "metadata": {},
   "outputs": [],
   "source": [
    "# Compute Expected Shortfall (ES) using the quantile-based integral definition.\n",
    "def compute_es_var(alpha: float) -> float:\n",
    "    def integrand(gamma):\n",
    "        return -norm.ppf(gamma)\n",
    "    \n",
    "    integral, _ = quad(integrand, 0, alpha)\n",
    "    return integral / alpha"
   ]
  },
  {
   "cell_type": "code",
   "execution_count": 8,
   "id": "6546b3ec",
   "metadata": {},
   "outputs": [
    {
     "name": "stdout",
     "output_type": "stream",
     "text": [
      "ES - PDF integral definition: 2.06271\n",
      "ES - Quantile integral definition: 2.06271\n",
      "Difference between those two: 1.05755e-11\n"
     ]
    }
   ],
   "source": [
    "alpha = 0.05\n",
    "var_alpha = compute_var(alpha)\n",
    "es_pdf = compute_es_pdf(alpha, var_alpha)\n",
    "es_var = compute_es_var(alpha)\n",
    "\n",
    "print(f\"ES - PDF integral definition: {es_pdf:.5f}\")\n",
    "print(f\"ES - Quantile integral definition: {es_var:.5f}\")\n",
    "print(f\"Difference between those two: {abs(es_pdf - es_var):.5e}\")"
   ]
  },
  {
   "cell_type": "markdown",
   "id": "a8c758a5",
   "metadata": {},
   "source": [
    "## Problem 02"
   ]
  },
  {
   "cell_type": "code",
   "execution_count": 21,
   "id": "4febfe64",
   "metadata": {},
   "outputs": [],
   "source": [
    "#VaR for exponential distribution with λ=1\n",
    "def var_exponential(alpha: np.ndarray) -> np.ndarray:\n",
    "    return -np.log(alpha)"
   ]
  },
  {
   "cell_type": "code",
   "execution_count": 22,
   "id": "b6a85c90",
   "metadata": {},
   "outputs": [],
   "source": [
    "# ES for exponential distribution with λ=1.\n",
    "def es_exponential(alpha: np.ndarray) -> np.ndarray:\n",
    "    \"\"\"ES for exponential distribution with λ=1.\"\"\"\n",
    "    return (1 - alpha * np.log(alpha) - alpha) / alpha"
   ]
  },
  {
   "cell_type": "code",
   "execution_count": 23,
   "id": "83b98793",
   "metadata": {},
   "outputs": [],
   "source": [
    "# VaR for standard normal distribution.\n",
    "def var_normal(alpha: np.ndarray) -> np.ndarray:\n",
    "    return -norm.ppf(alpha)"
   ]
  },
  {
   "cell_type": "code",
   "execution_count": 24,
   "id": "98d2f3db",
   "metadata": {},
   "outputs": [],
   "source": [
    "# ES for standard normal distribution using the quantile integral definition.\n",
    "def es_normal(alpha: float) -> float:\n",
    "    integrand = lambda gamma: -norm.ppf(gamma)\n",
    "    integral, _ = quad(integrand, 0, alpha)\n",
    "    return integral / alpha"
   ]
  },
  {
   "cell_type": "code",
   "execution_count": 25,
   "id": "1c3b31fc",
   "metadata": {},
   "outputs": [],
   "source": [
    "# Vectorized ES computation for an array of alphas (standard normal)\n",
    "def compute_es_normal_array(alphas: np.ndarray) -> np.ndarray:\n",
    "    \"\"\"Vectorized ES computation for an array of alphas (standard normal).\"\"\"\n",
    "    return np.array([es_normal(a) for a in alphas])"
   ]
  },
  {
   "cell_type": "code",
   "execution_count": 38,
   "id": "f584f590",
   "metadata": {},
   "outputs": [],
   "source": [
    "def plot_var(alphas, VaR_exp, VaR_norm):\n",
    "    plt.figure(figsize=(6, 4))\n",
    "    plt.plot(alphas, VaR_exp, label='Exponential', color=\"pink\")\n",
    "    plt.plot(alphas, VaR_norm, label='Normal', color='blue')\n",
    "    plt.xlabel(r'$\\alpha$')\n",
    "    plt.ylabel(r'$VaR_\\alpha$')\n",
    "    plt.title('VaR')\n",
    "    plt.legend()\n",
    "    plt.grid(True)\n",
    "    plt.tight_layout()\n",
    "    plt.show()\n"
   ]
  },
  {
   "cell_type": "code",
   "execution_count": 37,
   "id": "360e9dcf",
   "metadata": {},
   "outputs": [],
   "source": [
    "def plot_es(alphas, ES_exp, ES_norm):\n",
    "    plt.figure(figsize=(6, 4))\n",
    "    plt.plot(alphas, ES_exp, label='Exponential', color='pink')\n",
    "    plt.plot(alphas, ES_norm, label='Normal', color='blue')\n",
    "    plt.xlabel(r'$\\alpha$')\n",
    "    plt.ylabel(r'$ES_\\alpha$')\n",
    "    plt.title('ES')\n",
    "    plt.legend()\n",
    "    plt.grid(True)\n",
    "    plt.tight_layout()\n",
    "    plt.show()\n"
   ]
  },
  {
   "cell_type": "code",
   "execution_count": 39,
   "id": "e9051386",
   "metadata": {},
   "outputs": [],
   "source": [
    "alphas = np.linspace(0.001, 0.2, 200)\n",
    "\n",
    "# Compute values\n",
    "VaR_exp = var_exponential(alphas)\n",
    "ES_exp = es_exponential(alphas)\n",
    "VaR_norm = var_normal(alphas)\n",
    "ES_norm = compute_es_normal_array(alphas)"
   ]
  },
  {
   "cell_type": "code",
   "execution_count": 41,
   "id": "c4d5094b",
   "metadata": {},
   "outputs": [
    {
     "data": {
      "image/png": "[encoded data removed]",
      "text/plain": [
       "<Figure size 600x400 with 1 Axes>"
      ]
     },
     "metadata": {},
     "output_type": "display_data"
    }
   ],
   "source": [
    "plot_var(alphas, VaR_exp, VaR_norm)"
   ]
  },
  {
   "cell_type": "code",
   "execution_count": 42,
   "id": "8986fb1f",
   "metadata": {},
   "outputs": [
    {
     "data": {
      "image/png": "[encoded data removed]",
      "text/plain": [
       "<Figure size 600x400 with 1 Axes>"
      ]
     },
     "metadata": {},
     "output_type": "display_data"
    }
   ],
   "source": [
    "plot_es(alphas, ES_exp, ES_norm)"
   ]
  },
  {
   "cell_type": "code",
   "execution_count": 43,
   "id": "c63467cc",
   "metadata": {},
   "outputs": [
    {
     "name": "stdout",
     "output_type": "stream",
     "text": [
      "Expected shortfall normal(0.01) : 2.6652\n",
      "Expected shortfall normal(0.05) : 2.0627\n",
      "Expected shortfall normal(0.07) : 1.9181\n",
      "Expected shortfall normal(0.1) : 1.7550\n",
      "Expected shortfall normal(0.11) : 1.7094\n"
     ]
    }
   ],
   "source": [
    "# Print a few values for debugging\n",
    "for a in [0.01, 0.05, 0.07, 0.1, 0.11]:\n",
    "    print(f\"Expected shortfall normal({a}) : {es_normal(a):.4f}\")"
   ]
  },
  {
   "cell_type": "code",
   "execution_count": null,
   "id": "98c46030",
   "metadata": {},
   "outputs": [],
   "source": []
  }
 ],
 "metadata": {
  "kernelspec": {
   "display_name": "Python 3",
   "language": "python",
   "name": "python3"
  },
  "language_info": {
   "codemirror_mode": {
    "name": "ipython",
    "version": 3
   },
   "file_extension": ".py",
   "mimetype": "text/x-python",
   "name": "python",
   "nbconvert_exporter": "python",
   "pygments_lexer": "ipython3",
   "version": "3.12.1"
  }
 },
 "nbformat": 4,
 "nbformat_minor": 5
}
